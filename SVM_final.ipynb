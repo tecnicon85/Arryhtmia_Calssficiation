{
 "cells": [
  {
   "cell_type": "code",
   "execution_count": 1,
   "id": "initial_id",
   "metadata": {
    "ExecuteTime": {
     "end_time": "2024-05-02T16:06:17.466920Z",
     "start_time": "2024-05-02T16:06:16.040537Z"
    },
    "collapsed": true
   },
   "outputs": [],
   "source": [
    "import matplotlib.pyplot as plt\n",
    "import pandas as pd\n",
    "import numpy as np\n"
   ]
  },
  {
   "cell_type": "code",
   "execution_count": 2,
   "id": "df0fbd0fa506dd5a",
   "metadata": {
    "ExecuteTime": {
     "end_time": "2024-05-02T16:06:29.840005Z",
     "start_time": "2024-05-02T16:06:29.822546Z"
    },
    "collapsed": false
   },
   "outputs": [],
   "source": [
    "data_file = 'arrhythmia.data'\n",
    "df = pd.read_csv(data_file, header=None)"
   ]
  },
  {
   "cell_type": "code",
   "execution_count": 3,
   "id": "3f2f6dafb9f302af",
   "metadata": {
    "ExecuteTime": {
     "end_time": "2024-05-02T16:06:30.494331Z",
     "start_time": "2024-05-02T16:06:30.491652Z"
    },
    "collapsed": false
   },
   "outputs": [],
   "source": [
    "# classes_to_drop = [7, 8, 14, 15]  \n",
    "# mask = ~df.iloc[:,-1].isin(classes_to_drop)\n",
    "# filtered_df = df[mask]\n",
    "# print(filtered_df.shape)"
   ]
  },
  {
   "cell_type": "code",
   "execution_count": 4,
   "id": "d3b91bcdb4459a0c",
   "metadata": {
    "ExecuteTime": {
     "end_time": "2024-05-02T16:06:31.142888Z",
     "start_time": "2024-05-02T16:06:31.131611Z"
    },
    "collapsed": false
   },
   "outputs": [
    {
     "name": "stdout",
     "output_type": "stream",
     "text": [
      " Class 8 has 6\n",
      " Class 6 has 25\n",
      " Class 10 has 50\n",
      " Class 1 has 245\n",
      " Class 7 has 6\n",
      " Class 14 has 8\n",
      " Class 3 has 15\n",
      " Class 16 has 22\n",
      " Class 2 has 44\n",
      " Class 4 has 15\n",
      " Class 5 has 13\n",
      " Class 9 has 9\n",
      " Class 15 has 10\n"
     ]
    }
   ],
   "source": [
    "## replicating data points with 5 or fewer samples  \n",
    "from collections import Counter\n",
    "class_counts = Counter(df.iloc[:,-1])   # counting class labels \n",
    "classes_to_augment = [class_label for class_label, count,  in class_counts.items() if count<6] # identify class labels to replicate \n",
    "# loop over classes to replicate\n",
    "for class_label in classes_to_augment:\n",
    "    class_rows = df[df.iloc[:,-1]==class_label]\n",
    "     # replicate the rows until the class count reaches at least 6\n",
    "    while class_counts[class_label]<6:\n",
    "        df = pd.concat([df, class_rows], ignore_index=True)\n",
    "        class_counts[class_label] += len(class_rows)\n",
    "class_counts = Counter(df.iloc[:,-1])\n",
    "for class_label, count in class_counts.items():\n",
    "    print(f\" Class {class_label} has {count}\")"
   ]
  },
  {
   "cell_type": "code",
   "execution_count": 5,
   "id": "ece6ad3958ddb9e8",
   "metadata": {
    "ExecuteTime": {
     "end_time": "2024-05-02T16:06:32.071490Z",
     "start_time": "2024-05-02T16:06:32.036257Z"
    },
    "collapsed": false
   },
   "outputs": [
    {
     "name": "stdout",
     "output_type": "stream",
     "text": [
      "(468, 280)\n"
     ]
    }
   ],
   "source": [
    "\n",
    "# handling missing values \n",
    "from sklearn.impute import SimpleImputer\n",
    "df.replace(\"?\", np.nan, inplace=True)\n",
    "imputer = SimpleImputer(missing_values=np.nan, strategy='mean')\n",
    "imputed_data = imputer.fit_transform(df)\n",
    "df_imputed = pd.DataFrame(imputed_data, columns=df.columns)\n",
    "print(df_imputed.shape)"
   ]
  },
  {
   "cell_type": "code",
   "execution_count": 6,
   "id": "5ba8f2681cf0e1bc",
   "metadata": {
    "ExecuteTime": {
     "end_time": "2024-04-14T21:47:38.511904Z",
     "start_time": "2024-04-14T21:47:38.508477Z"
    },
    "collapsed": false
   },
   "outputs": [],
   "source": [
    "# nominal = [1, 21, 22, 23, 24, 25, 26, 33, 34, 35, 36, 37, 38, 45, 46, 47, 48, 49, 50, 57, 58, 59, 60, 61, 62, 69, 70, 71, 72, 73, 74, 81, 82, 83, 84, 85, 86, 93, 94, 95, 96, 97, 98, 105, 106, 107, 108, 109, 110, 117, 118, 119, 120, 121, 122, 129, 130, 131, 132, 133, 134, 141, 142, 143, 144, 145, 146, 153, 154, 155, 156, 157, 158]\n",
    "# \n",
    "# df_imputed.drop(df_imputed.columns[nominal], axis=1, inplace=True)\n",
    "# print(df_imputed.shape)"
   ]
  },
  {
   "cell_type": "code",
   "execution_count": 7,
   "id": "a31535c571cefb1",
   "metadata": {
    "ExecuteTime": {
     "end_time": "2024-05-02T16:07:01.176276Z",
     "start_time": "2024-05-02T16:07:01.171222Z"
    },
    "collapsed": false
   },
   "outputs": [
    {
     "name": "stdout",
     "output_type": "stream",
     "text": [
      "(468, 279)\n",
      "(468,)\n"
     ]
    }
   ],
   "source": [
    "X = df_imputed.iloc[ :,:-1].values\n",
    "y=df_imputed.iloc[:,-1]\n",
    "print(np.shape(X))\n",
    "print(np.shape(y))"
   ]
  },
  {
   "cell_type": "code",
   "execution_count": 8,
   "id": "68a9ec2019ee3f79",
   "metadata": {
    "ExecuteTime": {
     "end_time": "2024-05-02T16:07:02.659564Z",
     "start_time": "2024-05-02T16:07:02.060581Z"
    },
    "collapsed": false
   },
   "outputs": [
    {
     "name": "stdout",
     "output_type": "stream",
     "text": [
      "(3185, 279)\n",
      "(3185,)\n"
     ]
    }
   ],
   "source": [
    "# apply Synthetic Minority Oversampling Technique(SMOTE):\n",
    "\n",
    "from imblearn.over_sampling import SMOTE\n",
    "X_res, y_res = SMOTE(random_state=0).fit_resample(X, y)\n",
    "print(X_res.shape)\n",
    "print(y_res.shape)"
   ]
  },
  {
   "cell_type": "code",
   "execution_count": 9,
   "id": "7addafbd47589bb3",
   "metadata": {
    "ExecuteTime": {
     "end_time": "2024-05-02T16:07:21.424582Z",
     "start_time": "2024-05-02T16:07:21.335394Z"
    },
    "collapsed": false
   },
   "outputs": [],
   "source": [
    "from sklearn.preprocessing import StandardScaler\n",
    "from sklearn.decomposition import PCA\n",
    "\n",
    "sc = StandardScaler()\n",
    "\n",
    "# features scaling \n",
    "X_scaled = sc.fit_transform(X_res)\n",
    "pca = PCA()\n",
    "pca.fit(X_scaled)\n",
    "pca_data = pca.transform(X_scaled)"
   ]
  },
  {
   "cell_type": "code",
   "execution_count": 10,
   "id": "2043c99d6c936a51",
   "metadata": {
    "ExecuteTime": {
     "end_time": "2024-05-02T16:07:50.930033Z",
     "start_time": "2024-05-02T16:07:49.710695Z"
    },
    "collapsed": false
   },
   "outputs": [
    {
     "data": {
      "image/png": "[encoded data removed]",
      "text/plain": [
       "<Figure size 640x480 with 1 Axes>"
      ]
     },
     "metadata": {},
     "output_type": "display_data"
    }
   ],
   "source": [
    "# compute the percentage of explained variance for each principal component\n",
    "per_var = np.round(pca.explained_variance_ratio_*100, decimals=1)\n",
    "\n",
    "# create labels for the principal components \n",
    "labels = ['PC' + str(i) for i in range(1, len(per_var) + 1)]\n",
    "\n",
    "# plotting \n",
    "plt.bar(x=range(1,len(per_var) + 1), height=per_var, tick_label=labels)\n",
    "plt.xlabel('Principal Component')\n",
    "plt.ylabel(' Percentage of Explained Variance')\n",
    "plt.title('Scree Plot')\n",
    "plt.show()"
   ]
  },
  {
   "cell_type": "code",
   "execution_count": 11,
   "id": "5f310a12bee08e2a",
   "metadata": {
    "ExecuteTime": {
     "end_time": "2024-05-02T16:08:10.953980Z",
     "start_time": "2024-05-02T16:08:10.764184Z"
    },
    "collapsed": false
   },
   "outputs": [
    {
     "data": {
      "image/png": "[encoded data removed]",
      "text/plain": [
       "<Figure size 1200x600 with 1 Axes>"
      ]
     },
     "metadata": {},
     "output_type": "display_data"
    }
   ],
   "source": [
    "threshold = 1   # threshold for selecting important component 1% \n",
    "\n",
    "important_components = per_var[per_var >= threshold]    # select the components with explained variance greater than or equal to the threshold\n",
    "\n",
    "# plotting \n",
    "fig, ax = plt.subplots(figsize=(12, 6))\n",
    "plt.bar(x=range(1, len(important_components) + 1), height=important_components, tick_label=labels[:len(important_components)])\n",
    "plt.xlabel('Principal Component')\n",
    "plt.ylabel('Percentage of Explained Variance')\n",
    "plt.title('Filtered Scree Plot')\n",
    "plt.xticks(rotation=45, ha='right')\n",
    "plt.show()\n"
   ]
  },
  {
   "cell_type": "code",
   "execution_count": 12,
   "id": "687529974edc9990",
   "metadata": {
    "ExecuteTime": {
     "end_time": "2024-05-02T16:08:20.958130Z",
     "start_time": "2024-05-02T16:08:20.953625Z"
    },
    "collapsed": false
   },
   "outputs": [
    {
     "name": "stdout",
     "output_type": "stream",
     "text": [
      "(3185, 23)\n"
     ]
    }
   ],
   "source": [
    "important_indices = [i for i, variance in enumerate(per_var) if variance >= threshold]\n",
    "important_pca_data = pca_data[:, important_indices]\n",
    "print(important_pca_data.shape)"
   ]
  },
  {
   "cell_type": "code",
   "execution_count": 13,
   "id": "3aa488e00fb7222",
   "metadata": {
    "ExecuteTime": {
     "end_time": "2024-05-02T16:08:22.375893Z",
     "start_time": "2024-05-02T16:08:22.371388Z"
    },
    "collapsed": false
   },
   "outputs": [
    {
     "name": "stdout",
     "output_type": "stream",
     "text": [
      "(3185, 23)\n",
      "(3185,)\n"
     ]
    }
   ],
   "source": [
    "new_X = pd.DataFrame(important_pca_data)\n",
    "print(new_X.shape)\n",
    "print(y_res.shape)"
   ]
  },
  {
   "cell_type": "code",
   "execution_count": 14,
   "id": "a7e04f74a71dfe6",
   "metadata": {
    "ExecuteTime": {
     "end_time": "2024-05-02T16:08:45.165944Z",
     "start_time": "2024-05-02T16:08:44.963563Z"
    },
    "collapsed": false
   },
   "outputs": [
    {
     "name": "stdout",
     "output_type": "stream",
     "text": [
      "Accuracy: 0.9199372056514914\n",
      "Classification Report:\n",
      "               precision    recall  f1-score   support\n",
      "\n",
      "         1.0       0.73      0.50      0.59        60\n",
      "         2.0       0.89      0.93      0.91        55\n",
      "         3.0       1.00      1.00      1.00        48\n",
      "         4.0       0.98      1.00      0.99        53\n",
      "         5.0       0.93      1.00      0.96        50\n",
      "         6.0       0.77      0.92      0.84        51\n",
      "         7.0       1.00      1.00      1.00        50\n",
      "         8.0       1.00      1.00      1.00        44\n",
      "         9.0       1.00      1.00      1.00        44\n",
      "        10.0       0.92      0.90      0.91        50\n",
      "        14.0       1.00      1.00      1.00        40\n",
      "        15.0       1.00      1.00      1.00        44\n",
      "        16.0       0.78      0.83      0.81        48\n",
      "\n",
      "    accuracy                           0.92       637\n",
      "   macro avg       0.92      0.93      0.92       637\n",
      "weighted avg       0.92      0.92      0.92       637\n",
      "\n"
     ]
    }
   ],
   "source": [
    "from sklearn.model_selection import train_test_split\n",
    "from sklearn.svm import SVC\n",
    "from sklearn.metrics import accuracy_score, classification_report\n",
    "\n",
    "\n",
    "X_train, X_test, y_train, y_test = train_test_split(new_X, y_res, test_size=0.2, random_state=42)\n",
    "\n",
    "classifier = SVC(kernel='rbf', random_state=0)\n",
    "classifier.fit(X_train, y_train)\n",
    "# Predictions and evaluation\n",
    "y_pred = classifier.predict(X_test)\n",
    "print(\"Accuracy:\", accuracy_score(y_test, y_pred))\n",
    "print(\"Classification Report:\\n\", classification_report(y_test, y_pred))\n"
   ]
  },
  {
   "cell_type": "code",
   "execution_count": 15,
   "id": "16e7fb47c469edd",
   "metadata": {
    "ExecuteTime": {
     "end_time": "2024-05-02T16:08:51.275186Z",
     "start_time": "2024-05-02T16:08:51.259632Z"
    },
    "collapsed": false
   },
   "outputs": [
    {
     "data": {
      "text/html": [
       "<div>\n",
       "<style scoped>\n",
       "    .dataframe tbody tr th:only-of-type {\n",
       "        vertical-align: middle;\n",
       "    }\n",
       "\n",
       "    .dataframe tbody tr th {\n",
       "        vertical-align: top;\n",
       "    }\n",
       "\n",
       "    .dataframe thead th {\n",
       "        text-align: right;\n",
       "    }\n",
       "</style>\n",
       "<table border=\"1\" class=\"dataframe\">\n",
       "  <thead>\n",
       "    <tr style=\"text-align: right;\">\n",
       "      <th></th>\n",
       "      <th>Pred:1.0</th>\n",
       "      <th>Pred:2.0</th>\n",
       "      <th>Pred:3.0</th>\n",
       "      <th>Pred:4.0</th>\n",
       "      <th>Pred:5.0</th>\n",
       "      <th>Pred:6.0</th>\n",
       "      <th>Pred:7.0</th>\n",
       "      <th>Pred:8.0</th>\n",
       "      <th>Pred:9.0</th>\n",
       "      <th>Pred:10.0</th>\n",
       "      <th>Pred:14.0</th>\n",
       "      <th>Pred:15.0</th>\n",
       "      <th>Pred:16.0</th>\n",
       "    </tr>\n",
       "  </thead>\n",
       "  <tbody>\n",
       "    <tr>\n",
       "      <th>True1.0</th>\n",
       "      <td>30</td>\n",
       "      <td>2</td>\n",
       "      <td>0</td>\n",
       "      <td>0</td>\n",
       "      <td>0</td>\n",
       "      <td>2</td>\n",
       "      <td>0</td>\n",
       "      <td>0</td>\n",
       "      <td>0</td>\n",
       "      <td>3</td>\n",
       "      <td>0</td>\n",
       "      <td>0</td>\n",
       "      <td>4</td>\n",
       "    </tr>\n",
       "    <tr>\n",
       "      <th>True2.0</th>\n",
       "      <td>5</td>\n",
       "      <td>51</td>\n",
       "      <td>0</td>\n",
       "      <td>0</td>\n",
       "      <td>0</td>\n",
       "      <td>0</td>\n",
       "      <td>0</td>\n",
       "      <td>0</td>\n",
       "      <td>0</td>\n",
       "      <td>0</td>\n",
       "      <td>0</td>\n",
       "      <td>0</td>\n",
       "      <td>1</td>\n",
       "    </tr>\n",
       "    <tr>\n",
       "      <th>True3.0</th>\n",
       "      <td>0</td>\n",
       "      <td>0</td>\n",
       "      <td>48</td>\n",
       "      <td>0</td>\n",
       "      <td>0</td>\n",
       "      <td>0</td>\n",
       "      <td>0</td>\n",
       "      <td>0</td>\n",
       "      <td>0</td>\n",
       "      <td>0</td>\n",
       "      <td>0</td>\n",
       "      <td>0</td>\n",
       "      <td>0</td>\n",
       "    </tr>\n",
       "    <tr>\n",
       "      <th>True4.0</th>\n",
       "      <td>0</td>\n",
       "      <td>1</td>\n",
       "      <td>0</td>\n",
       "      <td>53</td>\n",
       "      <td>0</td>\n",
       "      <td>0</td>\n",
       "      <td>0</td>\n",
       "      <td>0</td>\n",
       "      <td>0</td>\n",
       "      <td>0</td>\n",
       "      <td>0</td>\n",
       "      <td>0</td>\n",
       "      <td>0</td>\n",
       "    </tr>\n",
       "    <tr>\n",
       "      <th>True5.0</th>\n",
       "      <td>2</td>\n",
       "      <td>0</td>\n",
       "      <td>0</td>\n",
       "      <td>0</td>\n",
       "      <td>50</td>\n",
       "      <td>0</td>\n",
       "      <td>0</td>\n",
       "      <td>0</td>\n",
       "      <td>0</td>\n",
       "      <td>1</td>\n",
       "      <td>0</td>\n",
       "      <td>0</td>\n",
       "      <td>1</td>\n",
       "    </tr>\n",
       "    <tr>\n",
       "      <th>True6.0</th>\n",
       "      <td>12</td>\n",
       "      <td>1</td>\n",
       "      <td>0</td>\n",
       "      <td>0</td>\n",
       "      <td>0</td>\n",
       "      <td>47</td>\n",
       "      <td>0</td>\n",
       "      <td>0</td>\n",
       "      <td>0</td>\n",
       "      <td>1</td>\n",
       "      <td>0</td>\n",
       "      <td>0</td>\n",
       "      <td>0</td>\n",
       "    </tr>\n",
       "    <tr>\n",
       "      <th>True7.0</th>\n",
       "      <td>0</td>\n",
       "      <td>0</td>\n",
       "      <td>0</td>\n",
       "      <td>0</td>\n",
       "      <td>0</td>\n",
       "      <td>0</td>\n",
       "      <td>50</td>\n",
       "      <td>0</td>\n",
       "      <td>0</td>\n",
       "      <td>0</td>\n",
       "      <td>0</td>\n",
       "      <td>0</td>\n",
       "      <td>0</td>\n",
       "    </tr>\n",
       "    <tr>\n",
       "      <th>True8.0</th>\n",
       "      <td>0</td>\n",
       "      <td>0</td>\n",
       "      <td>0</td>\n",
       "      <td>0</td>\n",
       "      <td>0</td>\n",
       "      <td>0</td>\n",
       "      <td>0</td>\n",
       "      <td>44</td>\n",
       "      <td>0</td>\n",
       "      <td>0</td>\n",
       "      <td>0</td>\n",
       "      <td>0</td>\n",
       "      <td>0</td>\n",
       "    </tr>\n",
       "    <tr>\n",
       "      <th>True9.0</th>\n",
       "      <td>0</td>\n",
       "      <td>0</td>\n",
       "      <td>0</td>\n",
       "      <td>0</td>\n",
       "      <td>0</td>\n",
       "      <td>0</td>\n",
       "      <td>0</td>\n",
       "      <td>0</td>\n",
       "      <td>44</td>\n",
       "      <td>0</td>\n",
       "      <td>0</td>\n",
       "      <td>0</td>\n",
       "      <td>0</td>\n",
       "    </tr>\n",
       "    <tr>\n",
       "      <th>True10.0</th>\n",
       "      <td>2</td>\n",
       "      <td>0</td>\n",
       "      <td>0</td>\n",
       "      <td>0</td>\n",
       "      <td>0</td>\n",
       "      <td>0</td>\n",
       "      <td>0</td>\n",
       "      <td>0</td>\n",
       "      <td>0</td>\n",
       "      <td>45</td>\n",
       "      <td>0</td>\n",
       "      <td>0</td>\n",
       "      <td>2</td>\n",
       "    </tr>\n",
       "    <tr>\n",
       "      <th>True14.0</th>\n",
       "      <td>0</td>\n",
       "      <td>0</td>\n",
       "      <td>0</td>\n",
       "      <td>0</td>\n",
       "      <td>0</td>\n",
       "      <td>0</td>\n",
       "      <td>0</td>\n",
       "      <td>0</td>\n",
       "      <td>0</td>\n",
       "      <td>0</td>\n",
       "      <td>40</td>\n",
       "      <td>0</td>\n",
       "      <td>0</td>\n",
       "    </tr>\n",
       "    <tr>\n",
       "      <th>True15.0</th>\n",
       "      <td>0</td>\n",
       "      <td>0</td>\n",
       "      <td>0</td>\n",
       "      <td>0</td>\n",
       "      <td>0</td>\n",
       "      <td>0</td>\n",
       "      <td>0</td>\n",
       "      <td>0</td>\n",
       "      <td>0</td>\n",
       "      <td>0</td>\n",
       "      <td>0</td>\n",
       "      <td>44</td>\n",
       "      <td>0</td>\n",
       "    </tr>\n",
       "    <tr>\n",
       "      <th>True16.0</th>\n",
       "      <td>9</td>\n",
       "      <td>0</td>\n",
       "      <td>0</td>\n",
       "      <td>0</td>\n",
       "      <td>0</td>\n",
       "      <td>2</td>\n",
       "      <td>0</td>\n",
       "      <td>0</td>\n",
       "      <td>0</td>\n",
       "      <td>0</td>\n",
       "      <td>0</td>\n",
       "      <td>0</td>\n",
       "      <td>40</td>\n",
       "    </tr>\n",
       "  </tbody>\n",
       "</table>\n",
       "</div>"
      ],
      "text/plain": [
       "          Pred:1.0  Pred:2.0  Pred:3.0  Pred:4.0  Pred:5.0  Pred:6.0  \\\n",
       "True1.0         30         2         0         0         0         2   \n",
       "True2.0          5        51         0         0         0         0   \n",
       "True3.0          0         0        48         0         0         0   \n",
       "True4.0          0         1         0        53         0         0   \n",
       "True5.0          2         0         0         0        50         0   \n",
       "True6.0         12         1         0         0         0        47   \n",
       "True7.0          0         0         0         0         0         0   \n",
       "True8.0          0         0         0         0         0         0   \n",
       "True9.0          0         0         0         0         0         0   \n",
       "True10.0         2         0         0         0         0         0   \n",
       "True14.0         0         0         0         0         0         0   \n",
       "True15.0         0         0         0         0         0         0   \n",
       "True16.0         9         0         0         0         0         2   \n",
       "\n",
       "          Pred:7.0  Pred:8.0  Pred:9.0  Pred:10.0  Pred:14.0  Pred:15.0  \\\n",
       "True1.0          0         0         0          3          0          0   \n",
       "True2.0          0         0         0          0          0          0   \n",
       "True3.0          0         0         0          0          0          0   \n",
       "True4.0          0         0         0          0          0          0   \n",
       "True5.0          0         0         0          1          0          0   \n",
       "True6.0          0         0         0          1          0          0   \n",
       "True7.0         50         0         0          0          0          0   \n",
       "True8.0          0        44         0          0          0          0   \n",
       "True9.0          0         0        44          0          0          0   \n",
       "True10.0         0         0         0         45          0          0   \n",
       "True14.0         0         0         0          0         40          0   \n",
       "True15.0         0         0         0          0          0         44   \n",
       "True16.0         0         0         0          0          0          0   \n",
       "\n",
       "          Pred:16.0  \n",
       "True1.0           4  \n",
       "True2.0           1  \n",
       "True3.0           0  \n",
       "True4.0           0  \n",
       "True5.0           1  \n",
       "True6.0           0  \n",
       "True7.0           0  \n",
       "True8.0           0  \n",
       "True9.0           0  \n",
       "True10.0          2  \n",
       "True14.0          0  \n",
       "True15.0          0  \n",
       "True16.0         40  "
      ]
     },
     "execution_count": 15,
     "metadata": {},
     "output_type": "execute_result"
    }
   ],
   "source": [
    "from sklearn.metrics import confusion_matrix\n",
    "from sklearn.utils.multiclass import unique_labels\n",
    "def plot(y_true, y_pred):\n",
    "    labels = unique_labels(y_test)\n",
    "    columns = [f'Pred:{label}' for label in labels ]\n",
    "    index = [f'True{label}' for label in labels ]\n",
    "    table = pd.DataFrame(confusion_matrix(y_true, y_pred), columns=columns, index=index)\n",
    "    return table\n",
    "\n",
    "plot(y_pred, y_test)"
   ]
  },
  {
   "cell_type": "code",
   "execution_count": 16,
   "id": "c01e66fc6bb596f9",
   "metadata": {
    "ExecuteTime": {
     "end_time": "2024-05-02T16:11:00.109589Z",
     "start_time": "2024-05-02T16:10:59.686977Z"
    },
    "collapsed": false
   },
   "outputs": [
    {
     "data": {
      "image/png": "[encoded data removed]",
      "text/plain": [
       "<Figure size 1200x800 with 2 Axes>"
      ]
     },
     "metadata": {},
     "output_type": "display_data"
    }
   ],
   "source": [
    "from sklearn.metrics import confusion_matrix\n",
    "\n",
    "# define the labels for the confusion matrix\n",
    "labels = [1, 2, 3, 4, 5, 6, 7, 8, 9, 10, 14, 15, 16]\n",
    "\n",
    "# compute the confusion matrix\n",
    "cm = confusion_matrix(y_test, y_pred, labels=labels)\n",
    "\n",
    "# plotting \n",
    "plt.figure(figsize=(12, 8))\n",
    "ax = plt.gca()\n",
    "\n",
    "# create a heatmap of the confusion matrix\n",
    "cax = ax.imshow(cm, interpolation='nearest', cmap='Greens')\n",
    "plt.colorbar(cax)  \n",
    "\n",
    "ax.set_xticks(np.arange(len(labels)))\n",
    "ax.set_yticks(np.arange(len(labels)))\n",
    "\n",
    "ax.set_xticklabels(labels)\n",
    "ax.set_yticklabels(labels)\n",
    "plt.setp(ax.get_xticklabels(), rotation=45, ha=\"right\",\n",
    "         rotation_mode=\"anchor\")\n",
    "ax.set_xlabel('Predicted labels')\n",
    "ax.set_ylabel('True labels')\n",
    "ax.set_title('Confusion Matrix of SVM ')\n",
    "ax.grid(False)  \n",
    "\n",
    "for i in range(len(labels)):\n",
    "    for j in range(len(labels)):\n",
    "        text = ax.text(j, i, cm[i, j],\n",
    "                       ha=\"center\", va=\"center\", color=\"black\")\n",
    "\n",
    "plt.show()\n"
   ]
  },
  {
   "cell_type": "code",
   "execution_count": 17,
   "id": "9c84c3e2d1e174b8",
   "metadata": {
    "ExecuteTime": {
     "end_time": "2024-05-02T16:10:46.858817Z",
     "start_time": "2024-05-02T16:10:46.854081Z"
    },
    "collapsed": false
   },
   "outputs": [
    {
     "name": "stdout",
     "output_type": "stream",
     "text": [
      "[[30  5  0  0  2 12  0  0  0  2  0  0  9]\n",
      " [ 2 51  0  1  0  1  0  0  0  0  0  0  0]\n",
      " [ 0  0 48  0  0  0  0  0  0  0  0  0  0]\n",
      " [ 0  0  0 53  0  0  0  0  0  0  0  0  0]\n",
      " [ 0  0  0  0 50  0  0  0  0  0  0  0  0]\n",
      " [ 2  0  0  0  0 47  0  0  0  0  0  0  2]\n",
      " [ 0  0  0  0  0  0 50  0  0  0  0  0  0]\n",
      " [ 0  0  0  0  0  0  0 44  0  0  0  0  0]\n",
      " [ 0  0  0  0  0  0  0  0 44  0  0  0  0]\n",
      " [ 3  0  0  0  1  1  0  0  0 45  0  0  0]\n",
      " [ 0  0  0  0  0  0  0  0  0  0 40  0  0]\n",
      " [ 0  0  0  0  0  0  0  0  0  0  0 44  0]\n",
      " [ 4  1  0  0  1  0  0  0  0  2  0  0 40]]\n"
     ]
    }
   ],
   "source": [
    "print(cm)"
   ]
  },
  {
   "cell_type": "code",
   "execution_count": null,
   "id": "115f57077b5be471",
   "metadata": {
    "collapsed": false
   },
   "outputs": [],
   "source": []
  }
 ],
 "metadata": {
  "kernelspec": {
   "display_name": "Python 3",
   "language": "python",
   "name": "python3"
  },
  "language_info": {
   "codemirror_mode": {
    "name": "ipython",
    "version": 3
   },
   "file_extension": ".py",
   "mimetype": "text/x-python",
   "name": "python",
   "nbconvert_exporter": "python",
   "pygments_lexer": "ipython3",
   "version": "3.11.0"
  }
 },
 "nbformat": 4,
 "nbformat_minor": 5
}
